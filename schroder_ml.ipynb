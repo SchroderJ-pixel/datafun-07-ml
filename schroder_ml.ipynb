{
 "cells": [
  {
   "cell_type": "markdown",
   "metadata": {},
   "source": [
    "# P7: Machine Learning Project\n",
    "---\n",
    "#### Author: Justin Schroder\n",
    "#### Github Link: https://github.com/SchroderJ-pixel/datafun-07-ml\n",
    "---\n"
   ]
  },
  {
   "cell_type": "markdown",
   "metadata": {},
   "source": [
    "#### Imports:"
   ]
  },
  {
   "cell_type": "code",
   "execution_count": 131,
   "metadata": {},
   "outputs": [],
   "source": [
    "import numpy as np\n",
    "import pandas as pd\n",
    "import pyarrow as pa\n",
    "import matplotlib.pyplot as plt\n",
    "import seaborn as sns\n",
    "import scipy\n",
    "from scipy.stats import linregress\n",
    "from sklearn.model_selection import train_test_split\n",
    "from sklearn.linear_model import LinearRegression"
   ]
  },
  {
   "cell_type": "markdown",
   "metadata": {},
   "source": [
    "---\n",
    "### Part 1 - Chart a Straight Line\n",
    "\n",
    "#### Understanding the Equation of a Line  \n",
    "The equation of a straight line is:  y = mx + b\n",
    "\n",
    "where:  \n",
    "- \\( m \\) is the slope (rate of change of \\( y \\) with respect to \\( x \\))  \n",
    "- \\( b \\) is the y-intercept (where the line crosses the y-axis)\n",
    "\n",
    "For Celsius to Fahrenheit conversion, the formula is:  F = 9/5*C + 32\n",
    "\n"
   ]
  },
  {
   "cell_type": "markdown",
   "metadata": {},
   "source": [
    "Step 1: Create Data for Celsius and Fahrenheit"
   ]
  },
  {
   "cell_type": "code",
   "execution_count": 132,
   "metadata": {},
   "outputs": [],
   "source": [
    "# Generate Celsius values\n",
    "celsius = np.linspace(-10, 40, 100)  # From -10 to 40 degrees Celsius\n",
    "\n",
    "# Convert to Fahrenheit\n",
    "fahrenheit = (9/5) * celsius + 32\n",
    "\n",
    "# Create a DataFrame\n",
    "df = pd.DataFrame({'Celsius': celsius, 'Fahrenheit': fahrenheit})\n"
   ]
  },
  {
   "cell_type": "markdown",
   "metadata": {},
   "source": [
    "Step 2: Plot the Line"
   ]
  },
  {
   "cell_type": "code",
   "execution_count": 133,
   "metadata": {},
   "outputs": [
    {
     "data": {
      "image/png": "[encoded data removed]",
      "text/plain": [
       "<Figure size 800x500 with 1 Axes>"
      ]
     },
     "metadata": {},
     "output_type": "display_data"
    }
   ],
   "source": [
    "# Plot the data\n",
    "plt.figure(figsize=(8, 5))\n",
    "plt.plot(df['Celsius'], df['Fahrenheit'], label='F = (9/5)C + 32', color='blue')\n",
    "\n",
    "# Labels and title\n",
    "plt.xlabel('Celsius')\n",
    "plt.ylabel('Fahrenheit')\n",
    "plt.title('Celsius to Fahrenheit Conversion')\n",
    "plt.legend()\n",
    "plt.grid(True)\n",
    "\n",
    "# Show the plot\n",
    "plt.show()"
   ]
  },
  {
   "cell_type": "markdown",
   "metadata": {},
   "source": [
    "---\n",
    "### Part 2 - \n",
    "\n",
    "#### Section 1 - Data Acquisition"
   ]
  },
  {
   "cell_type": "code",
   "execution_count": 134,
   "metadata": {},
   "outputs": [
    {
     "data": {
      "text/html": [
       "<div>\n",
       "<style scoped>\n",
       "    .dataframe tbody tr th:only-of-type {\n",
       "        vertical-align: middle;\n",
       "    }\n",
       "\n",
       "    .dataframe tbody tr th {\n",
       "        vertical-align: top;\n",
       "    }\n",
       "\n",
       "    .dataframe thead th {\n",
       "        text-align: right;\n",
       "    }\n",
       "</style>\n",
       "<table border=\"1\" class=\"dataframe\">\n",
       "  <thead>\n",
       "    <tr style=\"text-align: right;\">\n",
       "      <th></th>\n",
       "      <th>Date</th>\n",
       "      <th>Value</th>\n",
       "      <th>Anomaly</th>\n",
       "    </tr>\n",
       "  </thead>\n",
       "  <tbody>\n",
       "    <tr>\n",
       "      <th>0</th>\n",
       "      <td>189501</td>\n",
       "      <td>34.2</td>\n",
       "      <td>-3.2</td>\n",
       "    </tr>\n",
       "    <tr>\n",
       "      <th>1</th>\n",
       "      <td>189601</td>\n",
       "      <td>34.7</td>\n",
       "      <td>-2.7</td>\n",
       "    </tr>\n",
       "    <tr>\n",
       "      <th>2</th>\n",
       "      <td>189701</td>\n",
       "      <td>35.5</td>\n",
       "      <td>-1.9</td>\n",
       "    </tr>\n",
       "    <tr>\n",
       "      <th>3</th>\n",
       "      <td>189801</td>\n",
       "      <td>39.6</td>\n",
       "      <td>2.2</td>\n",
       "    </tr>\n",
       "    <tr>\n",
       "      <th>4</th>\n",
       "      <td>189901</td>\n",
       "      <td>36.4</td>\n",
       "      <td>-1.0</td>\n",
       "    </tr>\n",
       "  </tbody>\n",
       "</table>\n",
       "</div>"
      ],
      "text/plain": [
       "     Date  Value  Anomaly\n",
       "0  189501   34.2     -3.2\n",
       "1  189601   34.7     -2.7\n",
       "2  189701   35.5     -1.9\n",
       "3  189801   39.6      2.2\n",
       "4  189901   36.4     -1.0"
      ]
     },
     "execution_count": 134,
     "metadata": {},
     "output_type": "execute_result"
    }
   ],
   "source": [
    "# Load the dataset from the correct link\n",
    "data_url = \"https://raw.githubusercontent.com/pdeitel/IntroToPython/master/examples/ch15/ave_hi_nyc_jan_1895-2018.csv\"\n",
    "\n",
    "# Read CSV into a DataFrame\n",
    "nyc_df = pd.read_csv(data_url)\n",
    "\n",
    "# Display first few rows\n",
    "nyc_df.head()"
   ]
  },
  {
   "cell_type": "markdown",
   "metadata": {},
   "source": [
    "#### Section 2 - Data Inspection"
   ]
  },
  {
   "cell_type": "code",
   "execution_count": 135,
   "metadata": {},
   "outputs": [
    {
     "name": "stdout",
     "output_type": "stream",
     "text": [
      "     Date  Value  Anomaly\n",
      "0  189501   34.2     -3.2\n",
      "1  189601   34.7     -2.7\n",
      "2  189701   35.5     -1.9\n",
      "3  189801   39.6      2.2\n",
      "4  189901   36.4     -1.0\n",
      "       Date  Value  Anomaly\n",
      "119  201401   35.5     -1.9\n",
      "120  201501   36.1     -1.3\n",
      "121  201601   40.8      3.4\n",
      "122  201701   42.8      5.4\n",
      "123  201801   38.7      1.3\n"
     ]
    }
   ],
   "source": [
    "print(nyc_df.head())\n",
    "print(nyc_df.tail())"
   ]
  },
  {
   "cell_type": "markdown",
   "metadata": {},
   "source": [
    "#### Section 3 - Data Cleaning\n",
    "\n",
    "In this section, we cleaned the dataset by renaming the columns for better clarity. The 'Date' column was used to create a new 'Year' column by extracting the first four digits. Since the 'Date' column was no longer needed, it was dropped. We then checked the data types to ensure the 'Year' and 'Temperature' columns were numeric, and verified there were no missing values in the dataset. Finally, a preview of the cleaned data was displayed to confirm the changes."
   ]
  },
  {
   "cell_type": "code",
   "execution_count": 136,
   "metadata": {},
   "outputs": [
    {
     "name": "stdout",
     "output_type": "stream",
     "text": [
      "Temperature            float64\n",
      "Temperature_Anomaly    float64\n",
      "Year                     int64\n",
      "dtype: object\n",
      "Temperature            0\n",
      "Temperature_Anomaly    0\n",
      "Year                   0\n",
      "dtype: int64\n",
      "_____________________________________________________________\n"
     ]
    },
    {
     "data": {
      "text/html": [
       "<div>\n",
       "<style scoped>\n",
       "    .dataframe tbody tr th:only-of-type {\n",
       "        vertical-align: middle;\n",
       "    }\n",
       "\n",
       "    .dataframe tbody tr th {\n",
       "        vertical-align: top;\n",
       "    }\n",
       "\n",
       "    .dataframe thead th {\n",
       "        text-align: right;\n",
       "    }\n",
       "</style>\n",
       "<table border=\"1\" class=\"dataframe\">\n",
       "  <thead>\n",
       "    <tr style=\"text-align: right;\">\n",
       "      <th></th>\n",
       "      <th>Temperature</th>\n",
       "      <th>Temperature_Anomaly</th>\n",
       "      <th>Year</th>\n",
       "    </tr>\n",
       "  </thead>\n",
       "  <tbody>\n",
       "    <tr>\n",
       "      <th>0</th>\n",
       "      <td>34.2</td>\n",
       "      <td>-3.2</td>\n",
       "      <td>1895</td>\n",
       "    </tr>\n",
       "    <tr>\n",
       "      <th>1</th>\n",
       "      <td>34.7</td>\n",
       "      <td>-2.7</td>\n",
       "      <td>1896</td>\n",
       "    </tr>\n",
       "    <tr>\n",
       "      <th>2</th>\n",
       "      <td>35.5</td>\n",
       "      <td>-1.9</td>\n",
       "      <td>1897</td>\n",
       "    </tr>\n",
       "    <tr>\n",
       "      <th>3</th>\n",
       "      <td>39.6</td>\n",
       "      <td>2.2</td>\n",
       "      <td>1898</td>\n",
       "    </tr>\n",
       "    <tr>\n",
       "      <th>4</th>\n",
       "      <td>36.4</td>\n",
       "      <td>-1.0</td>\n",
       "      <td>1899</td>\n",
       "    </tr>\n",
       "  </tbody>\n",
       "</table>\n",
       "</div>"
      ],
      "text/plain": [
       "   Temperature  Temperature_Anomaly  Year\n",
       "0         34.2                 -3.2  1895\n",
       "1         34.7                 -2.7  1896\n",
       "2         35.5                 -1.9  1897\n",
       "3         39.6                  2.2  1898\n",
       "4         36.4                 -1.0  1899"
      ]
     },
     "execution_count": 136,
     "metadata": {},
     "output_type": "execute_result"
    }
   ],
   "source": [
    "# Rename columns for clarity\n",
    "nyc_df.columns = ['Date', 'Temperature', 'Temperature_Anomaly']\n",
    "\n",
    "# Extract only the first four digits from 'Date' to create a 'Year' column\n",
    "nyc_df['Year'] = nyc_df['Date'].astype(str).str[:4].astype(int)\n",
    "\n",
    "# Drop the original 'Date' column since we no longer need it\n",
    "nyc_df = nyc_df.drop(columns=['Date'])\n",
    "\n",
    "# Check data types and missing values\n",
    "print(nyc_df.dtypes)  # Ensure 'Year' and 'Temperature' are numeric\n",
    "print(nyc_df.isnull().sum())  # Check for missing values\n",
    "print(\"_____________________________________________________________\")\n",
    "\n",
    "# Display cleaned data\n",
    "nyc_df.head()\n"
   ]
  },
  {
   "cell_type": "markdown",
   "metadata": {},
   "source": [
    "#### Section 4 - Descriptive Statistics\n",
    "Calculate basic statistics like mean, median, and standard deviation."
   ]
  },
  {
   "cell_type": "code",
   "execution_count": 137,
   "metadata": {},
   "outputs": [
    {
     "data": {
      "text/html": [
       "<div>\n",
       "<style scoped>\n",
       "    .dataframe tbody tr th:only-of-type {\n",
       "        vertical-align: middle;\n",
       "    }\n",
       "\n",
       "    .dataframe tbody tr th {\n",
       "        vertical-align: top;\n",
       "    }\n",
       "\n",
       "    .dataframe thead th {\n",
       "        text-align: right;\n",
       "    }\n",
       "</style>\n",
       "<table border=\"1\" class=\"dataframe\">\n",
       "  <thead>\n",
       "    <tr style=\"text-align: right;\">\n",
       "      <th></th>\n",
       "      <th>Temperature</th>\n",
       "      <th>Temperature_Anomaly</th>\n",
       "      <th>Year</th>\n",
       "    </tr>\n",
       "  </thead>\n",
       "  <tbody>\n",
       "    <tr>\n",
       "      <th>count</th>\n",
       "      <td>124.00</td>\n",
       "      <td>124.00</td>\n",
       "      <td>124.00</td>\n",
       "    </tr>\n",
       "    <tr>\n",
       "      <th>mean</th>\n",
       "      <td>37.60</td>\n",
       "      <td>0.20</td>\n",
       "      <td>1956.50</td>\n",
       "    </tr>\n",
       "    <tr>\n",
       "      <th>std</th>\n",
       "      <td>4.54</td>\n",
       "      <td>4.54</td>\n",
       "      <td>35.94</td>\n",
       "    </tr>\n",
       "    <tr>\n",
       "      <th>min</th>\n",
       "      <td>26.10</td>\n",
       "      <td>-11.30</td>\n",
       "      <td>1895.00</td>\n",
       "    </tr>\n",
       "    <tr>\n",
       "      <th>25%</th>\n",
       "      <td>34.58</td>\n",
       "      <td>-2.82</td>\n",
       "      <td>1925.75</td>\n",
       "    </tr>\n",
       "    <tr>\n",
       "      <th>50%</th>\n",
       "      <td>37.60</td>\n",
       "      <td>0.20</td>\n",
       "      <td>1956.50</td>\n",
       "    </tr>\n",
       "    <tr>\n",
       "      <th>75%</th>\n",
       "      <td>40.60</td>\n",
       "      <td>3.20</td>\n",
       "      <td>1987.25</td>\n",
       "    </tr>\n",
       "    <tr>\n",
       "      <th>max</th>\n",
       "      <td>47.60</td>\n",
       "      <td>10.20</td>\n",
       "      <td>2018.00</td>\n",
       "    </tr>\n",
       "  </tbody>\n",
       "</table>\n",
       "</div>"
      ],
      "text/plain": [
       "       Temperature  Temperature_Anomaly     Year\n",
       "count       124.00               124.00   124.00\n",
       "mean         37.60                 0.20  1956.50\n",
       "std           4.54                 4.54    35.94\n",
       "min          26.10               -11.30  1895.00\n",
       "25%          34.58                -2.82  1925.75\n",
       "50%          37.60                 0.20  1956.50\n",
       "75%          40.60                 3.20  1987.25\n",
       "max          47.60                10.20  2018.00"
      ]
     },
     "execution_count": 137,
     "metadata": {},
     "output_type": "execute_result"
    }
   ],
   "source": [
    "# Set display precision\n",
    "pd.set_option('display.precision', 2)\n",
    "\n",
    "# Display descriptive statistics\n",
    "nyc_df.describe()"
   ]
  },
  {
   "cell_type": "markdown",
   "metadata": {},
   "source": [
    "#### Section 5 - Build the Model\n",
    "\n",
    "In this section, we used the `linregress` function from SciPy to calculate the best-fit line for predicting the average high temperature in January based on the year. The slope and intercept were computed, along with the R-squared value, which indicates how well the data fits the line. A high R-squared value (close to 1) suggests a strong correlation, while a low p-value (< 0.05) indicates that the regression model is statistically significant. The standard error shows the variability of the slope estimate."
   ]
  },
  {
   "cell_type": "code",
   "execution_count": 138,
   "metadata": {},
   "outputs": [
    {
     "name": "stdout",
     "output_type": "stream",
     "text": [
      "Slope of the line (m): 0.0148\n",
      "Intercept of the line (b): 8.69\n",
      "R-squared value: 0.01\n",
      "P-value: 0.1959\n",
      "Standard Error: 0.0114\n"
     ]
    }
   ],
   "source": [
    "# Importing the necessary library\n",
    "from scipy.stats import linregress\n",
    "\n",
    "# Perform linear regression to find the best-fit line\n",
    "slope, intercept, r_value, p_value, std_err = linregress(nyc_df['Year'], nyc_df['Temperature'])\n",
    "\n",
    "# Calculate R-squared\n",
    "r_squared = r_value ** 2\n",
    "\n",
    "# Print the results\n",
    "print(f\"Slope of the line (m): {slope:.4f}\")\n",
    "print(f\"Intercept of the line (b): {intercept:.2f}\")\n",
    "print(f\"R-squared value: {r_squared:.2f}\")  # A value close to 1 indicates a strong fit\n",
    "print(f\"P-value: {p_value:.4f}\")  # Indicates the statistical significance of the regression\n",
    "print(f\"Standard Error: {std_err:.4f}\")  # Reflects the accuracy of the slope estimate\n"
   ]
  },
  {
   "cell_type": "markdown",
   "metadata": {},
   "source": [
    "#### Section 6 - Predict\n",
    "\n",
    "We use the linear regression model to predict the average high temperature in January for 2024 based on the calculated slope and intercept."
   ]
  },
  {
   "cell_type": "code",
   "execution_count": 139,
   "metadata": {},
   "outputs": [
    {
     "name": "stdout",
     "output_type": "stream",
     "text": [
      "Predicted average high temperature in January 2024: 38.59°F\n"
     ]
    }
   ],
   "source": [
    "# Predict the average high temperature for January 2024 using the model\n",
    "year_to_predict = 2024\n",
    "predicted_temp = slope * year_to_predict + intercept\n",
    "\n",
    "# Display the predicted temperature\n",
    "print(f\"Predicted average high temperature in January {year_to_predict}: {predicted_temp:.2f}°F\")"
   ]
  },
  {
   "cell_type": "markdown",
   "metadata": {},
   "source": [
    "#### Section 6 - Visualizations\n",
    "The scatter plot with the red regression line shows how the average high temperature in January has changed over the years, visually representing the temperature trend from 1895 to 2024."
   ]
  },
  {
   "cell_type": "code",
   "execution_count": 140,
   "metadata": {},
   "outputs": [
    {
     "data": {
      "image/png": "[encoded data removed]",
      "text/plain": [
       "<Figure size 800x500 with 1 Axes>"
      ]
     },
     "metadata": {},
     "output_type": "display_data"
    }
   ],
   "source": [
    "# Plot the data points\n",
    "plt.figure(figsize=(8, 5))\n",
    "sns.scatterplot(x=nyc_df['Year'], y=nyc_df['Temperature'], label='Observed Data')\n",
    "\n",
    "# Plot regression line\n",
    "years_future = list(range(nyc_df['Year'].min(), 2025))  # Extend range to 2024\n",
    "predicted_temps = [slope * year + intercept for year in years_future]\n",
    "sns.lineplot(x=years_future, y=predicted_temps, color='red', label='Best-Fit Line')\n",
    "\n",
    "# Highlight prediction for 2024\n",
    "predicted_temp_2024 = slope * 2024 + intercept  # Predict temperature for 2024\n",
    "plt.scatter(2024, predicted_temp_2024, color='orange', marker='o', s=100, label='Predicted 2024')\n",
    "\n",
    "# Labels and title\n",
    "plt.xlabel('Year')\n",
    "plt.ylabel('Avg High Temp in January (°F)')\n",
    "plt.title('NYC January Avg High Temp - Linear Regression')\n",
    "plt.legend()\n",
    "plt.grid()\n",
    "\n",
    "# Show plot\n",
    "plt.show()\n"
   ]
  }
 ],
 "metadata": {
  "kernelspec": {
   "display_name": ".venv",
   "language": "python",
   "name": "python3"
  },
  "language_info": {
   "codemirror_mode": {
    "name": "ipython",
    "version": 3
   },
   "file_extension": ".py",
   "mimetype": "text/x-python",
   "name": "python",
   "nbconvert_exporter": "python",
   "pygments_lexer": "ipython3",
   "version": "3.13.1"
  }
 },
 "nbformat": 4,
 "nbformat_minor": 2
}
